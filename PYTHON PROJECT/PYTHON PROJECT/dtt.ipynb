{
 "cells": [
  {
   "cell_type": "code",
   "execution_count": 1,
   "id": "00c6a0c2",
   "metadata": {},
   "outputs": [],
   "source": [
    "import pandas as pd\n",
    "import numpy as np\n",
    "import matplotlib.pyplot as plt\n",
    "import seaborn as sns\n"
   ]
  },
  {
   "cell_type": "code",
   "execution_count": 2,
   "id": "2bc8aa26",
   "metadata": {},
   "outputs": [],
   "source": [
    "data = pd.read_csv(r\"C:\\Users\\safia\\OneDrive\\Documents\\python_projects\\PYTHON PROJECT\\PYTHON PROJECT\\Housing.csv\")"
   ]
  },
  {
   "cell_type": "code",
   "execution_count": 3,
   "id": "4664ce5d",
   "metadata": {},
   "outputs": [
    {
     "name": "stdout",
     "output_type": "stream",
     "text": [
      "<class 'pandas.core.frame.DataFrame'>\n",
      "RangeIndex: 545 entries, 0 to 544\n",
      "Data columns (total 13 columns):\n",
      " #   Column            Non-Null Count  Dtype \n",
      "---  ------            --------------  ----- \n",
      " 0   price             545 non-null    int64 \n",
      " 1   area              545 non-null    int64 \n",
      " 2   bedrooms          545 non-null    int64 \n",
      " 3   bathrooms         545 non-null    int64 \n",
      " 4   stories           545 non-null    int64 \n",
      " 5   mainroad          545 non-null    object\n",
      " 6   guestroom         545 non-null    object\n",
      " 7   basement          545 non-null    object\n",
      " 8   hotwaterheating   545 non-null    object\n",
      " 9   airconditioning   545 non-null    object\n",
      " 10  parking           545 non-null    int64 \n",
      " 11  prefarea          545 non-null    object\n",
      " 12  furnishingstatus  545 non-null    object\n",
      "dtypes: int64(6), object(7)\n",
      "memory usage: 55.5+ KB\n"
     ]
    }
   ],
   "source": [
    "data.head(10)\n",
    "data.info()\n"
   ]
  },
  {
   "cell_type": "code",
   "execution_count": 5,
   "id": "5ea077a9",
   "metadata": {},
   "outputs": [
    {
     "name": "stdout",
     "output_type": "stream",
     "text": [
      "      price      area  bedrooms  bathrooms   stories   parking\n",
      "0  1.000000  0.396564       0.6   0.333333  0.666667  0.666667\n",
      "1  0.909091  0.502405       0.6   1.000000  1.000000  1.000000\n",
      "2  0.909091  0.571134       0.4   0.333333  0.333333  0.666667\n",
      "3  0.906061  0.402062       0.6   0.333333  0.333333  1.000000\n",
      "4  0.836364  0.396564       0.6   0.000000  0.333333  0.666667\n"
     ]
    }
   ],
   "source": [
    "from sklearn.preprocessing import MinMaxScaler\n",
    "numeric_cols = data.select_dtypes(include=['int64', 'float64']).columns\n",
    "scaler = MinMaxScaler()\n",
    "data_normalized = data.copy()\n",
    "data_normalized[numeric_cols] = scaler.fit_transform(data[numeric_cols])\n",
    "print(data_normalized[numeric_cols].head())"
   ]
  },
  {
   "cell_type": "code",
   "execution_count": 6,
   "id": "3f95874f",
   "metadata": {},
   "outputs": [
    {
     "name": "stdout",
     "output_type": "stream",
     "text": [
      "      price      area  bedrooms  bathrooms  stories  parking\n",
      "0  3.878788  1.021739       1.0        1.0      1.0      2.0\n",
      "1  3.424242  1.579710       1.0        3.0      2.0      3.0\n",
      "2  3.424242  1.942029       0.0        1.0      0.0      2.0\n",
      "3  3.409091  1.050725       1.0        1.0      0.0      3.0\n",
      "4  3.060606  1.021739       1.0        0.0      0.0      2.0\n"
     ]
    }
   ],
   "source": [
    "from sklearn.preprocessing import RobustScaler\n",
    "scaler = RobustScaler()\n",
    "data_scaled = data.copy()\n",
    "data_scaled[numeric_cols] = scaler.fit_transform(data[numeric_cols])\n",
    "print(data_scaled[numeric_cols].head())"
   ]
  },
  {
   "cell_type": "code",
   "execution_count": 7,
   "id": "d5f3454b",
   "metadata": {},
   "outputs": [
    {
     "name": "stdout",
     "output_type": "stream",
     "text": [
      "      price      area  bedrooms  bathrooms   stories   parking\n",
      "0  4.566365  1.046726  1.403419   1.421812  1.378217  1.517692\n",
      "1  4.004484  1.757010  1.403419   5.405809  2.532024  2.679409\n",
      "2  4.004484  2.218232  0.047278   1.421812  0.224410  1.517692\n",
      "3  3.985755  1.083624  1.403419   1.421812  0.224410  2.679409\n",
      "4  3.554979  1.046726  1.403419  -0.570187  0.224410  1.517692\n"
     ]
    }
   ],
   "source": [
    "from sklearn.preprocessing import StandardScaler\n",
    "scaler = StandardScaler()\n",
    "df_standardized = data.copy()\n",
    "df_standardized[numeric_cols] = scaler.fit_transform(data[numeric_cols])\n",
    "print(df_standardized[numeric_cols].head())"
   ]
  },
  {
   "cell_type": "code",
   "execution_count": null,
   "id": "7fd17794",
   "metadata": {},
   "outputs": [],
   "source": []
  }
 ],
 "metadata": {
  "kernelspec": {
   "display_name": "Python 3",
   "language": "python",
   "name": "python3"
  },
  "language_info": {
   "codemirror_mode": {
    "name": "ipython",
    "version": 3
   },
   "file_extension": ".py",
   "mimetype": "text/x-python",
   "name": "python",
   "nbconvert_exporter": "python",
   "pygments_lexer": "ipython3",
   "version": "3.10.11"
  }
 },
 "nbformat": 4,
 "nbformat_minor": 5
}
