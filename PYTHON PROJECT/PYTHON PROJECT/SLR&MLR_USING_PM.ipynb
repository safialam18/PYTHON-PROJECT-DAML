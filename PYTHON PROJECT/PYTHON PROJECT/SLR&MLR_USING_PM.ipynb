{
 "cells": [
  {
   "cell_type": "code",
   "execution_count": 1,
   "id": "fa6d8a55",
   "metadata": {},
   "outputs": [
    {
     "name": "stdout",
     "output_type": "stream",
     "text": [
      "[3.58198813 5.48676628 3.78967097 3.13674225 2.48065781 5.61315762\n",
      " 4.70744624 3.98528991 1.37932748 5.30321123 3.92812619 3.60611591\n",
      " 4.04245363 2.70040453 1.84870114 7.20798938 2.98622314 4.09961735\n",
      " 1.74643759 3.35333325 4.25904463 5.67032134 5.37243884 4.05451752\n",
      " 4.25904463 5.24604751 5.00532873 5.80877656 1.84870114 1.62004626] \n",
      "\n",
      "Mean Absolute Error: 0.6706465896781372\n",
      "Mean Squared Error: 0.6997772668940531\n",
      "RMSE: 0.8365269074537012\n",
      "[5.36165699 4.02858637 4.79034101 1.36244512 0.9815678  2.8859544\n",
      " 3.26683173 2.31463842 4.98077967 4.40946369 4.79034101 2.8859544\n",
      " 2.31463842 3.64770905 3.07639307 4.02858637 2.12419976 4.21902503\n",
      " 2.69551574 4.21902503 4.79034101 4.59990235 3.83814771 4.79034101\n",
      " 7.64692091 1.9337611  1.74332244 5.74253431 7.26604359 4.59990235] \n",
      "\n"
     ]
    }
   ],
   "source": [
    "import numpy as np\n",
    "import pandas as pd\n",
    "from sklearn.datasets import load_iris\n",
    "from sklearn.model_selection import train_test_split\n",
    "from sklearn.linear_model import LinearRegression\n",
    "from sklearn import metrics\n",
    "\n",
    "# Load iris dataset and convert to DataFrame\n",
    "iris_raw = load_iris(as_frame=True)\n",
    "iris = iris_raw.frame\n",
    "iris['SepalLengthCm'] = iris['sepal length (cm)']\n",
    "iris['SepalWidthCm'] = iris['sepal width (cm)']\n",
    "iris['PetalLengthCm'] = iris['petal length (cm)']\n",
    "\n",
    "# Multiple Linear Regression\n",
    "x = iris[['SepalLengthCm', 'SepalWidthCm']]\n",
    "y = iris.PetalLengthCm\n",
    "x_train, x_test, y_train, y_test = train_test_split(x, y, test_size=0.2)\n",
    "LR = LinearRegression()\n",
    "training = LR.fit(x_train, y_train)\n",
    "y_pred = LR.predict(x_test)\n",
    "print(y_pred, \"\\n\")\n",
    "\n",
    "MAE = metrics.mean_absolute_error(y_test, y_pred)\n",
    "print(\"Mean Absolute Error:\", MAE)\n",
    "MSE = metrics.mean_squared_error(y_test, y_pred)\n",
    "print(\"Mean Squared Error:\", MSE)\n",
    "RMSE = np.sqrt(metrics.mean_squared_error(y_test, y_pred))\n",
    "print(\"RMSE:\", RMSE)\n",
    "\n",
    "# Simple Linear Regression\n",
    "x = iris[['SepalLengthCm']]\n",
    "y = iris.PetalLengthCm\n",
    "x_train, x_test, y_train, y_test = train_test_split(x, y, test_size=0.2)\n",
    "LR = LinearRegression()\n",
    "training = LR.fit(x_train, y_train)\n",
    "y_pred = LR.predict(x_test)\n",
    "print(y_pred, \"\\n\")"
   ]
  },
  {
   "cell_type": "code",
   "execution_count": null,
   "id": "1303571f",
   "metadata": {},
   "outputs": [],
   "source": []
  }
 ],
 "metadata": {
  "kernelspec": {
   "display_name": "Python 3",
   "language": "python",
   "name": "python3"
  },
  "language_info": {
   "codemirror_mode": {
    "name": "ipython",
    "version": 3
   },
   "file_extension": ".py",
   "mimetype": "text/x-python",
   "name": "python",
   "nbconvert_exporter": "python",
   "pygments_lexer": "ipython3",
   "version": "3.10.11"
  }
 },
 "nbformat": 4,
 "nbformat_minor": 5
}
