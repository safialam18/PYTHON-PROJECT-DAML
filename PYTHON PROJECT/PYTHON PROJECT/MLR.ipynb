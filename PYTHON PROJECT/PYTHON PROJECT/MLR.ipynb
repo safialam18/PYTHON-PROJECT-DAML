{
 "cells": [
  {
   "cell_type": "code",
   "execution_count": 1,
   "id": "76306fd8",
   "metadata": {},
   "outputs": [
    {
     "name": "stdout",
     "output_type": "stream",
     "text": [
      "   SepalLengthCm  SepalWidthCm  PetalLengthCm  PetalWidthCm  Species\n",
      "0            5.1           3.5            1.4           0.2        0\n",
      "1            4.9           3.0            1.4           0.2        0\n",
      "2            4.7           3.2            1.3           0.2        0\n",
      "3            4.6           3.1            1.5           0.2        0\n",
      "4            5.0           3.6            1.4           0.2        0\n",
      "[5.38916131 5.25692395 1.93092218 2.31388851 4.97870347 3.74732995\n",
      " 1.42314227 1.72885426 5.48648339 1.63153218 1.43688802 5.30558499\n",
      " 6.02917859 1.56912539 7.72709475 4.12287251 2.11182058 1.22849811\n",
      " 5.29183923 3.23955003 6.11275491 1.04759971 3.03748211 3.84465203\n",
      " 4.30377091 7.46262003 3.63626211 1.52046435 5.06227979 5.57005971]\n"
     ]
    }
   ],
   "source": [
    "import pandas as pd\n",
    "import numpy as np\n",
    "from sklearn.model_selection import train_test_split\n",
    "from sklearn.linear_model import LinearRegression\n",
    "\n",
    "from sklearn.datasets import load_iris\n",
    "\n",
    "iris_data = load_iris(as_frame=True)\n",
    "iris = iris_data.frame\n",
    "iris.columns = ['SepalLengthCm', 'SepalWidthCm', 'PetalLengthCm', 'PetalWidthCm', 'Species']\n",
    "print(iris.head())\n",
    "\n",
    "x = iris[['SepalLengthCm', 'SepalWidthCm']]\n",
    "y = iris.PetalLengthCm\n",
    "\n",
    "x_train, x_test, y_train, y_test = train_test_split(x, y, test_size=0.2)\n",
    "LR = LinearRegression()\n",
    "training = LR.fit(x_train, y_train)\n",
    "y_pred = LR.predict(x_test)\n",
    "print(y_pred)"
   ]
  },
  {
   "cell_type": "code",
   "execution_count": null,
   "id": "27521a79",
   "metadata": {},
   "outputs": [],
   "source": []
  }
 ],
 "metadata": {
  "kernelspec": {
   "display_name": "Python 3",
   "language": "python",
   "name": "python3"
  },
  "language_info": {
   "codemirror_mode": {
    "name": "ipython",
    "version": 3
   },
   "file_extension": ".py",
   "mimetype": "text/x-python",
   "name": "python",
   "nbconvert_exporter": "python",
   "pygments_lexer": "ipython3",
   "version": "3.10.11"
  }
 },
 "nbformat": 4,
 "nbformat_minor": 5
}
